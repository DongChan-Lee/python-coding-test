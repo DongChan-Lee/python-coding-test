{
 "cells": [
  {
   "cell_type": "markdown",
   "metadata": {},
   "source": [
    "2019 KAKAO BLIND RECRUITMENT - 오픈채팅방"
   ]
  },
  {
   "cell_type": "code",
   "execution_count": 1,
   "metadata": {},
   "outputs": [],
   "source": [
    "# 내 풀이\n",
    "def solution(record):       \n",
    "    answer = []\n",
    "    users = {}\n",
    "    for i in range(len(record)):\n",
    "        com = record[i].split()  # (ex)\"Enter uid1234 Muzi\"\n",
    "        # Enter\n",
    "        if com[0] == \"Enter\":\n",
    "            answer.append([com[1], \"{}님이 들어왔습니다.\".format(com[2])])\n",
    "            users[com[1]] = com[2]\n",
    "        # Leave\n",
    "        elif com[0] == \"Leave\":\n",
    "            answer.append([com[1], \"{}님이 나갔습니다.\".format(users[com[1]])])\n",
    "        # Change\n",
    "        else:\n",
    "            users[com[1]] = com[2]\n",
    "    \n",
    "    for i in range(len(answer)):\n",
    "        answer_split = answer[i][1].split('님')\n",
    "        answer_split[0] = users[answer[i][0]]\n",
    "        answer[i][1] = '님'.join(answer_split)\n",
    "\n",
    "    return [result for id, result in answer]"
   ]
  },
  {
   "cell_type": "code",
   "execution_count": 2,
   "metadata": {},
   "outputs": [],
   "source": [
    "# 다른 풀이\n",
    "def solution(record):\n",
    "    answer = []\n",
    "    namespace = {}\n",
    "    printer = {'Enter':'님이 들어왔습니다.', 'Leave':'님이 나갔습니다.'}\n",
    "    for r in record:\n",
    "        rr = r.split(' ')\n",
    "        if rr[0] in ['Enter', 'Change']:\n",
    "            namespace[rr[1]] = rr[2]\n",
    "\n",
    "    for r in record:\n",
    "        if r.split(' ')[0] != 'Change':\n",
    "            answer.append(namespace[r.split(' ')[1]] + printer[r.split(' ')[0]])\n",
    "\n",
    "    return answer"
   ]
  },
  {
   "cell_type": "markdown",
   "metadata": {},
   "source": [
    "Test Case.\n",
    "- record : [\"Enter uid1234 Muzi\", \"Enter uid4567 Prodo\",\"Leave uid1234\",\"Enter uid1234 Prodo\",\"Change uid4567 Ryan\"]\n",
    "- result : [\"Prodo님이 들어왔습니다.\", \"Ryan님이 들어왔습니다.\", \"Prodo님이 나갔습니다.\", \"Prodo님이 들어왔습니다.\"]"
   ]
  },
  {
   "cell_type": "code",
   "execution_count": null,
   "metadata": {},
   "outputs": [],
   "source": []
  }
 ],
 "metadata": {
  "kernelspec": {
   "display_name": "Python 3",
   "language": "python",
   "name": "python3"
  },
  "language_info": {
   "codemirror_mode": {
    "name": "ipython",
    "version": 3
   },
   "file_extension": ".py",
   "mimetype": "text/x-python",
   "name": "python",
   "nbconvert_exporter": "python",
   "pygments_lexer": "ipython3",
   "version": "3.8.5"
  }
 },
 "nbformat": 4,
 "nbformat_minor": 4
}
