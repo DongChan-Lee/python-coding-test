{
 "cells": [
  {
   "cell_type": "markdown",
   "metadata": {},
   "source": [
    "2020 카카오 인턴십 - 수식 최대화"
   ]
  },
  {
   "cell_type": "code",
   "execution_count": 1,
   "metadata": {},
   "outputs": [],
   "source": [
    "# 내 풀이\n",
    "# 아이디어 : 우선순위대로 괄호 씌우기\n",
    "# 1. *, +, - 마다 순열(permutations)로 모든 경우의 수 구하기\n",
    "# 2. 순서대로 split하고 괄호에 담아서 우선적으로 계산하도록 하고 (이 때, f 문자열 포매팅 이용)\n",
    "# 3. 최종적으로 문자열로 다시 합쳐서 eval로 계산, abs 씌우기\n",
    "from itertools import permutations\n",
    "\n",
    "def solution(expression):\n",
    "    spec = ['*', '+', '-']\n",
    "    answer = []\n",
    "\n",
    "    for per in permutations(spec):      # 총 6가지 경우의 수\n",
    "        first, second = per[0], per[1]  # '*', '+'\n",
    "        lst = []\n",
    "        for ex in expression.split(first):              # '*'로 split : [\"100-200\", \"300-500+20\"]\n",
    "            ex_ = [f\"({i})\" for i in ex.split(second)]  # '+'로 split하고 괄호 씌우기 : [\"(300-500)\", \"(20)\"]\n",
    "            lst.append(f\"({second.join(ex_)})\")         # lst = [\"(100-200)\", \"(300-500)+(20)\"]\n",
    "        fin = first.join(lst)\n",
    "        answer.append(abs(eval(fin)))                   # answer = [\"((100-200))*((300-500)+(20))\"]\n",
    "    return max(answer)     # 이렇게 구한 상금 다 리스트에 담아서 그 중 최댓값 리턴"
   ]
  },
  {
   "cell_type": "code",
   "execution_count": 2,
   "metadata": {},
   "outputs": [],
   "source": [
    "# 다른 풀이\n",
    "# re.split('regex', string_variable) : regex를 기준으로 split해줌\n",
    "# _ex = ex[:]로 복사해서 기호가 나타나는 곳의 index를 이용하여 양 옆 값을 계산하여 index-1으로 변경\n",
    "# _ex에서 index, index+1에 해당하는 값 삭제\n",
    "import re\n",
    "from itertools import permutations\n",
    "\n",
    "def solution(expression):\n",
    "    # 1\n",
    "    op = [x for x in ['*', '+', '-'] if x in expression]\n",
    "    op = [list(y) for y in permutations(op)]\n",
    "    ex = re.split('(\\D)', expression)\n",
    "\n",
    "    # 2\n",
    "    a = []\n",
    "    for x in op:     # 모든 경우의 수\n",
    "        _ex = ex[:]\n",
    "        for y in x:\n",
    "            while y in _ex:\n",
    "                tmp = _ex.index(y)\n",
    "                _ex[tmp-1] = str(eval(_ex[tmp-1]+_ex[tmp]+_ex[tmp+1]))\n",
    "                _ex = _ex[:tmp]+_ex[tmp+2:]\n",
    "        a.append(_ex[-1])\n",
    "\n",
    "    # 3\n",
    "    return max(abs(int(x)) for x in a)"
   ]
  },
  {
   "cell_type": "markdown",
   "metadata": {},
   "source": [
    "Test Case.\n",
    "\n",
    "|expression|result|\n",
    "|---|---|\n",
    "|\"100-200*300-500+20\"|60420|\n",
    "|\"50\\*6\\-3\\*2\"|300|"
   ]
  },
  {
   "cell_type": "code",
   "execution_count": null,
   "metadata": {},
   "outputs": [],
   "source": []
  }
 ],
 "metadata": {
  "kernelspec": {
   "display_name": "Python 3",
   "language": "python",
   "name": "python3"
  },
  "language_info": {
   "codemirror_mode": {
    "name": "ipython",
    "version": 3
   },
   "file_extension": ".py",
   "mimetype": "text/x-python",
   "name": "python",
   "nbconvert_exporter": "python",
   "pygments_lexer": "ipython3",
   "version": "3.8.5"
  }
 },
 "nbformat": 4,
 "nbformat_minor": 4
}
