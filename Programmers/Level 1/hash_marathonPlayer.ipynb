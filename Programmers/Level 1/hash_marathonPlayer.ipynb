{
 "cells": [
  {
   "cell_type": "markdown",
   "metadata": {},
   "source": [
    "해시 - 완주하지 못한 선수"
   ]
  },
  {
   "cell_type": "code",
   "execution_count": 1,
   "metadata": {},
   "outputs": [],
   "source": [
    "# 내 풀이\n",
    "# 정렬 후 전방탐색으로 해결\n",
    "# 시간복잡도 O(n)에 대한 이해 : \"in\"을 2번 쓰면 O(n^2)으로 복잡도가 매우 높아짐\n",
    "# sort()는 O(NlogN)의 복잡도, Hash와 Counter는 O(N)의 복잡도\n",
    "# remove와 같은 함수도 리스트 요소를 삭제한 후 다시 index를 당겨줘야 하기 때문에 비효율적임\n",
    "def solution(participant, completion):\n",
    "    answer = ''\n",
    "    participant.sort()\n",
    "    completion.sort()\n",
    "    \n",
    "    for i in range(len(completion)):\n",
    "        if participant[i] != completion[i]:\n",
    "            answer += participant[i]\n",
    "            return answer\n",
    "    if answer == '': return participant[-1]\n",
    "    \n",
    "# 정확성은 맞지만, 효율성에서 실패했던 풀이\n",
    "def solution(participant, completion):\n",
    "    for c in completion: \n",
    "        if c in participant: del participant[participant.index(c)]\n",
    "    return participant[0]"
   ]
  },
  {
   "cell_type": "code",
   "execution_count": 2,
   "metadata": {},
   "outputs": [],
   "source": [
    "# 다른 풀이\n",
    "# collections 모듈의 Counter() 함수 사용\n",
    "# key : value(count)로 이루어진 dict 반환\n",
    "import collections\n",
    "\n",
    "def solution(participant, completion):\n",
    "    answer = collections.Counter(participant) - collections.Counter(completion)\n",
    "    return list(answer.keys())[0]"
   ]
  },
  {
   "cell_type": "code",
   "execution_count": 3,
   "metadata": {},
   "outputs": [],
   "source": [
    "# 다른 풀이 2\n",
    "# 해쉬함수 사용(참조키로 설정)\n",
    "def solution(participant, completion):\n",
    "    answer = ''\n",
    "    temp = 0\n",
    "    dic = {}\n",
    "    for part in participant:\n",
    "        dic[hash(part)] = part\n",
    "        temp += hash(part)\n",
    "    for com in completion:\n",
    "        temp -= hash(com)\n",
    "    answer = dic[temp]\n",
    "\n",
    "    return answer"
   ]
  },
  {
   "cell_type": "code",
   "execution_count": 4,
   "metadata": {},
   "outputs": [],
   "source": [
    "# 다른 풀이 3\n",
    "# 정렬 후 zip 함수 사용\n",
    "def solution(participant, completion):\n",
    "    participant.sort()\n",
    "    completion.sort()\n",
    "    for p, c in zip(participant, completion):   # 같은 개수까지만 묶임\n",
    "        if p != c:\n",
    "            return p\n",
    "    return participant[-1]"
   ]
  },
  {
   "cell_type": "markdown",
   "metadata": {},
   "source": [
    "Test Case.\n",
    "\n",
    "|participant | completion | return |\n",
    "|---|---|---|\n",
    "|[\"leo\", \"kiki\", \"eden\"] | [\"eden\", \"kiki\"] | \"leo\" |\n",
    "|[\"marina\", \"josipa\", \"nikola\", \"vinko\", \"filipa\"] | [\"josipa\", \"filipa\", \"marina\", \"nikola\"] | \"vinko\" |\n",
    "|[\"mislav\", \"stanko\", \"mislav\", \"ana\"] | [\"stanko\", \"ana\", \"mislav\"] | \"mislav\"|"
   ]
  },
  {
   "cell_type": "code",
   "execution_count": null,
   "metadata": {},
   "outputs": [],
   "source": []
  }
 ],
 "metadata": {
  "kernelspec": {
   "display_name": "Python 3",
   "language": "python",
   "name": "python3"
  },
  "language_info": {
   "codemirror_mode": {
    "name": "ipython",
    "version": 3
   },
   "file_extension": ".py",
   "mimetype": "text/x-python",
   "name": "python",
   "nbconvert_exporter": "python",
   "pygments_lexer": "ipython3",
   "version": "3.8.5"
  }
 },
 "nbformat": 4,
 "nbformat_minor": 4
}
