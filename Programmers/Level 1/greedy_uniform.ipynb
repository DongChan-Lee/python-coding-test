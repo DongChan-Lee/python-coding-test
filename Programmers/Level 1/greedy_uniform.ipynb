{
 "cells": [
  {
   "cell_type": "markdown",
   "metadata": {},
   "source": [
    "탐욕법(Greedy) - 체육복"
   ]
  },
  {
   "cell_type": "code",
   "execution_count": 1,
   "metadata": {},
   "outputs": [],
   "source": [
    "# 내 풀이\n",
    "# 정렬하는 습관이 좋음\n",
    "# List에서 반복문으로 remove할 때 [:] 혹은 copy()해서 remove 해야 모든 요소에 접근함\n",
    "# 웬만하면 한번에 조건을 확인해주는 게 좋음(18번, 21번 줄)\n",
    "def solution(n, lost, reserve):\n",
    "    lost.sort()\n",
    "    reserve.sort()\n",
    "    \n",
    "    for l in lost[:]:\n",
    "        if l in reserve[:]:\n",
    "            lost.remove(l)\n",
    "            reserve.remove(l)\n",
    "    \n",
    "    if lost == []:\n",
    "        return n\n",
    "    else:\n",
    "        for l in lost[:]:\n",
    "            if (l-1) in reserve[:]:\n",
    "                lost.remove(l)\n",
    "                reserve.remove(l-1)\n",
    "            elif (l+1) in reserve[:]:\n",
    "                lost.remove(l)\n",
    "                reserve.remove(l+1)\n",
    "        return n - len(lost)"
   ]
  },
  {
   "cell_type": "code",
   "execution_count": 2,
   "metadata": {},
   "outputs": [],
   "source": [
    "# 다른 풀이\n",
    "# List Comprehension으로 중복 제거해주는 방법\n",
    "# 하지만, list(set(reserve) - set(lost))으로 하는 게 시간복잡도가 더 낮다!!\n",
    "def solution(n, lost, reserve):\n",
    "    _reserve = [r for r in reserve if r not in lost]    ##\n",
    "    _lost = [l for l in lost if l not in reserve]       ##\n",
    "    _lost.sort()\n",
    "    _reserve.sort()\n",
    "    for r in _reserve:\n",
    "        f = r - 1\n",
    "        b = r + 1\n",
    "        if f in _lost:\n",
    "            _lost.remove(f)\n",
    "        elif b in _lost:\n",
    "            _lost.remove(b)\n",
    "    return n - len(_lost)"
   ]
  },
  {
   "cell_type": "markdown",
   "metadata": {},
   "source": [
    "Test Case.\n",
    "\n",
    "|n|lost|reserve|return|\n",
    "|---|---|---|---|\n",
    "|5|[2,4]|[1,3,5]|5|\n",
    "|5|[2,4]|[3]|4|\n",
    "|3|[3]|[1]|2|"
   ]
  },
  {
   "cell_type": "code",
   "execution_count": null,
   "metadata": {},
   "outputs": [],
   "source": []
  }
 ],
 "metadata": {
  "kernelspec": {
   "display_name": "Python 3",
   "language": "python",
   "name": "python3"
  },
  "language_info": {
   "codemirror_mode": {
    "name": "ipython",
    "version": 3
   },
   "file_extension": ".py",
   "mimetype": "text/x-python",
   "name": "python",
   "nbconvert_exporter": "python",
   "pygments_lexer": "ipython3",
   "version": "3.8.5"
  }
 },
 "nbformat": 4,
 "nbformat_minor": 4
}
