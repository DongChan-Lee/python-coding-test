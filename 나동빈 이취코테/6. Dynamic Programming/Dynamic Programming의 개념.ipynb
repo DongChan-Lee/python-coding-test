{
 "cells": [
  {
   "cell_type": "markdown",
   "metadata": {},
   "source": [
    "### 다이나믹 프로그래밍(Dynamic Programming), 동적 계획법\n",
    "\n",
    "- **큰 문제를 작게 나누고, 같은 문제라면 한 번씩만 풀어 문제를 효율적으로 해결하는 알고리즘 기법**\n",
    "- 한 번 계산한 문제는 다시 계산하지 않도록 하는 알고리즘 (중복되는 연산 줄이기)\n",
    "- 메모리 공간을 약간 더 사용하면, 연산 속도를 비약적으로 증가시킬 수 있는 기법\n",
    "- Why? \n",
    "    - 컴퓨터의 연산 속도에는 한계가 있고, 메모리 공간도 한정적이므로 우리는 연산 속도와 메모리 공간을 최대한 활용하여 효율적인 알고리즘을 작성해야 함\n",
    "    - (참고) [P vs NP 문제](https://gazelle-and-cs.tistory.com/64)를 다루는 계산 복잡도 이론\n",
    "\n",
    "### 피보나치 수열(Fibonacci Sequence)\n",
    "\n",
    "<img src=\"./fibonacci_1.png\" width=\"500\" />\n",
    "\n",
    "- 이전 두 항의 합을 현재의 항으로 설정하는 특징이 있는 수열\n",
    "- 점화식(= 인접한 항들 사이의 관계식)을 이용해 현재의 항을 이전의 항에 대한 식으로 표현할 수 있음\n",
    "\n",
    "$$a_n = a_{n-1} + a_{n-2} (a_1 = 1, a_2 = 1)$$\n",
    "\n",
    "- 수학적 점화식을 프로그래밍으로 표현하려면, 아래와 같이 **재귀 함수**를 사용하면 간단함"
   ]
  },
  {
   "cell_type": "code",
   "execution_count": 1,
   "metadata": {},
   "outputs": [
    {
     "name": "stdout",
     "output_type": "stream",
     "text": [
      "3\n"
     ]
    }
   ],
   "source": [
    "# 1. 피보나치 함수(Fibonacci Function)을 재귀 함수로 구현\n",
    "def fibo(x):\n",
    "    if x == 1 or x == 2:\n",
    "        return 1\n",
    "    return fibo(x - 1) + fibo(x - 2)\n",
    "\n",
    "print(fibo(4))"
   ]
  },
  {
   "cell_type": "markdown",
   "metadata": {},
   "source": [
    "- 하지만, 피보나치 수열 소스코드를 이렇게 작성하면 **심각한 문제**가 생길 수 있음\n",
    "- f(n) 함수에서 n이 커질수록 **수행 시간이 기하급수적으로 늘어나기 때문**\n",
    "- **피보나치 수열의 시간 복잡도** :\n",
    "    - 세타 표기법 : $\\theta((1.618...)^N)$\n",
    "    - 빅오 표기법 : $O(2^N)$의 지수 시간 (ex. N = 30이면, 약 10억 가량의 연산을 수행해야 함)\n",
    "\n",
    "- f(6)일 때의 호출 과정을 그림으로 나타내보자.\n",
    "\n",
    "<img src=\"./fibonacci_2.png\" width=\"500\" />\n",
    "\n",
    "- 그림을 보면 동일한 함수가 반복적으로 호출됨 (ex. f(3)은 총 3번 호출됨)\n",
    "- 즉, 이미 한 번 계산했지만, 계속 호출할 때마다 중복해서 또 계산하는 문제가 있음 -> 비효율적\n",
    "\n",
    "---\n",
    "### 다이나믹 프로그래밍(Dynamic Programming)을 하기 위한 2가지 조건\n",
    "#### 1. 큰 문제를 작은 문제로 나눌 수 있다.\n",
    "#### 2. 작은 문제에서 구한 정답은 그것을 포함하는 큰 문제에서도 동일하다.\n",
    "---\n",
    "\n",
    "### 메모이제이션(Memoization), 캐싱(Caching)\n",
    "- **이전에 계산된 결과를 일시적으로 기록**해 놓는 **넓은 개념**\n",
    "- **한 번 구한 결과를 메모리 공간에 메모해두고 같은 식을 다시 호출하면 메모한 결과를 그대로 가져오는 기법**\n",
    "- 값을 저장하는 방법이므로 **캐싱(Caching)**이라고도 함\n",
    "- 다이나믹 프로그래밍을 구현하는 방법 중 한 종류로 **재귀 함수**를 이용 (**Top-Down에 국한**되어 사용됨)\n",
    "- 구현 방법 : \n",
    "    - 한 번 구한 정보를 리스트에 저장\n",
    "    - 다이나믹 프로그래밍을 재귀적으로 수행하다가 같은 정보가 필요할 때 이미 구한 정답을 리스트에서 가져오면 됨"
   ]
  },
  {
   "cell_type": "code",
   "execution_count": 2,
   "metadata": {},
   "outputs": [
    {
     "name": "stdout",
     "output_type": "stream",
     "text": [
      "218922995834555169026\n"
     ]
    }
   ],
   "source": [
    "# 2. Top-Down(재귀적) Dynamic Programming으로 구현한 피보나치 함수(Fibonacci Function)\n",
    "\n",
    "d = [0] * 100       # 한 번 계산된 결과를 메모이제이션(Memoization)하기 위한 리스트 초기화\n",
    "\n",
    "def fibo(x):\n",
    "    # 종료 조건(1 혹은 2일 때 1을 반환)\n",
    "    if x == 1 or x == 2:\n",
    "        return 1\n",
    "    \n",
    "    # 이미 계산한 적 있는 문제라면 그대로 반환\n",
    "    if d[x] != 0:\n",
    "        return d[x]\n",
    "    \n",
    "    # 아직 계산하지 않은 문제라면 점화식에 따라서 피보나치 결과 반환\n",
    "    d[x] = fibo(x - 1) + fibo(x - 2)\n",
    "    return d[x]\n",
    "\n",
    "print(fibo(99))"
   ]
  },
  {
   "cell_type": "markdown",
   "metadata": {},
   "source": [
    "### 다이나믹 프로그래밍 vs 분할 정복(Divide and Conquer) 알고리즘\n",
    "- 공통점 : 큰 문제를 작게 나누는 방법\n",
    "- 차이점 : \n",
    "    - 다이나믹 프로그래밍 : 문제들이 서로 영향을 미치고 있고, 한 번 해결했던 문제를 다시금 해결함\n",
    "    - 분할 정복 알고리즘 : 한 번 처리한 부분은 다시 처리하지 않음\n",
    "\n",
    "<img src=\"./fibonacci_3.png\" width=\"500\" />\n",
    "\n",
    "- 재귀 함수를 이용한 방법(메모이제이션)은 한 번 푼 문제는 그 **결과를 저장**해 놓았다가, 나중에 동일한 문제를 풀어야 할 때 따로 계산하지 않고 **이미 저장한 값을 반환함**\n",
    "- 따라서, 위 그림과 같이 색칠한 노드만 방문하게 되고, 한 번 구한 결과는 다시 구해지지 않음\n",
    "- 시간 복잡도 : $O(N)$\n",
    "\n",
    "### 재귀로 구현 vs 반복문으로 구현\n",
    "- 재귀 함수를 사용하면 컴퓨터 시스템에서는 함수를 다시 호출했을 때 메모리 상에 적재되는 일련의 과정을 따라야 하므로 오버헤드가 발생할 수 있음\n",
    "    - (cf) 오버헤드(overhead) : 어떤 처리를 하기 위해 들어가는 간접적인 처리 시간·메모리 등\n",
    "- 따라서 반복문을 사용하여 오버헤드를 줄일 수 있음\n",
    "- 일반적으로 **반복문을 이용한 다이나믹 프로그래밍이 더 성능이 좋음**\n",
    "- 실제로 호출되는 함수를 아래 코드와 같이 확인해볼 수 있는데 위의 그림대로 호출되는 것을 확인할 수 있음"
   ]
  },
  {
   "cell_type": "code",
   "execution_count": 3,
   "metadata": {},
   "outputs": [
    {
     "name": "stdout",
     "output_type": "stream",
     "text": [
      "f(6) f(5) f(4) f(3) f(2) f(1) f(2) f(3) f(4) "
     ]
    },
    {
     "data": {
      "text/plain": [
       "8"
      ]
     },
     "execution_count": 3,
     "metadata": {},
     "output_type": "execute_result"
    }
   ],
   "source": [
    "# 3. (2)에서 구현한 다이나믹 프로그래밍 코드에서 실제로 호출되는 함수 확인\n",
    "d = [0] * 100\n",
    "\n",
    "def pibo(x):\n",
    "    print('f(' + str(x) + ')', end=' ')\n",
    "    \n",
    "    if x == 1 or x == 2:\n",
    "        return 1\n",
    "    \n",
    "    if d[x] != 0:\n",
    "        return d[x]\n",
    "    \n",
    "    d[x] = pibo(x - 1) + pibo(x - 2)\n",
    "    \n",
    "    return d[x]\n",
    "\n",
    "pibo(6)"
   ]
  },
  {
   "cell_type": "markdown",
   "metadata": {},
   "source": [
    "### Top-Down vs. Bottom-Up\n",
    "\n",
    "- 탑다운 방식(Top-Down), 메모이제이션(Memoization) : \n",
    "    - **재귀 함수**를 이용하여 다이나믹 프로그래밍 소스코드를 작성하는 방법\n",
    "    - 큰 문제를 해결하기 위해 **작은 문제를 호출**\n",
    "    - 하향식\n",
    "- 바텀업 방식(Bottom-Up) : **다이나믹 프로그래밍의 전형적인 형태**\n",
    "    - **반복문**을 이용하여 소스코드를 작성하는 방법\n",
    "    - **작은 문제부터** 차근차근 답을 도출\n",
    "    - 상향식\n",
    "    - 결과 저장용 리스트 : **DP 테이블**"
   ]
  },
  {
   "cell_type": "code",
   "execution_count": 4,
   "metadata": {},
   "outputs": [
    {
     "name": "stdout",
     "output_type": "stream",
     "text": [
      "218922995834555169026\n"
     ]
    }
   ],
   "source": [
    "# 4. Bottom-Up(반복적) Dynamic Programming으로 구현한 피보나치 함수(Fibonacci Function)\n",
    "\n",
    "d = [0] * 100       # 앞서 계산된 결과를 저장하기 위한 DP 테이블 초기화\n",
    "\n",
    "# 첫 번째 피보나치 수와 두 번째 피보나치 수는 1\n",
    "d[1] = 1\n",
    "d[2] = 1\n",
    "n = 99\n",
    "\n",
    "for i in range(3, n + 1):\n",
    "    d[i] = d[i - 1] + d[i - 2]\n",
    "    \n",
    "print(d[n])"
   ]
  },
  {
   "cell_type": "markdown",
   "metadata": {},
   "source": [
    "### 다이나믹 프로그래밍 정리\n",
    "\n",
    "- 코딩 테스트에서의 다이나믹 프로그래밍 문제는 대체로 간단한 형태로 출제됨\n",
    "- 문제를 푸는 첫 번째 단계 : **주어진 문제가 다이나믹 프로그래밍 유형임을 파악하는 것**\n",
    "    - 완전 탐색 알고리즘으로 접근했을 때 시간이 너무 오래 걸리면, 다이나믹 프로그래밍을 적용할 수 있는지 **해결하고자 하는 부분 문제들의 중복 여부**를 확인\n",
    "    - 우선 재귀 함수로 비효율적인 프로그램(Top-Down)을 작성한 뒤, **작은 문제에서 구한 답이 큰 문제에서 그대로 사용될 수 있으면** 코드를 개선\n",
    "        - (위에서 (1)번 코드를 작성한 뒤에, 메모이제이션 기법을 적용해 (2)번과 같이 수정하는 것)\n",
    "- 가능하다면 재귀 함수를 이용하는 Top-Down보다는 **반복문을 이용하는 Bottom-Up 방식으로 구현하는 것을 권장**\n",
    "    - 시스템상 재귀 함수의 스택 크기가 한정되어 있을 수 있음\n",
    "    - (ex) 5000번째 이상의 큰 피보나치 수를 구하도록 하면 `recursion depth(재귀 함수 깊이)`와 관련된 오류가 발생할 수 있음\n",
    "        - sys 라이브러리에 포함되어 있는 `setrecursionlimit()` 함수 호출하여 재귀 제한을 완화할 수 있음\n",
    "\n",
    "- (참고) 수열은 배열이나 리스트로 표현할 수 있다고 했지만, 메모이제이션(memoization)은 때에 따라서 사전(dict) 자료형과 같은 다른 자료형을 이용할 수도 있음\n",
    "    - dict 자료형 -> 수열처럼 연속적이지 않은 문제의 경우에 유용함\n",
    "    - (ex) $a_n$을 계산하고자 할 때 $a_0 ~ a_{n-1}$ 모두가 아닌 **일부의 작은 문제에 대한 해답만 필요**한 경우 dict 자료형이 더 효과적"
   ]
  },
  {
   "cell_type": "code",
   "execution_count": null,
   "metadata": {},
   "outputs": [],
   "source": []
  }
 ],
 "metadata": {
  "kernelspec": {
   "display_name": "tensorflow2",
   "language": "python",
   "name": "tf"
  },
  "language_info": {
   "codemirror_mode": {
    "name": "ipython",
    "version": 3
   },
   "file_extension": ".py",
   "mimetype": "text/x-python",
   "name": "python",
   "nbconvert_exporter": "python",
   "pygments_lexer": "ipython3",
   "version": "3.7.10"
  }
 },
 "nbformat": 4,
 "nbformat_minor": 2
}
