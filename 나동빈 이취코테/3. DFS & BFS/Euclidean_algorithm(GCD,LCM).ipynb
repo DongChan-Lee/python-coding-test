{
 "cells": [
  {
   "cell_type": "markdown",
   "metadata": {},
   "source": [
    "### 최대공약수 계산(유클리드 호제법) 예제\n",
    "- **GCD : Greatest Common Divisor(최대공약수)**\n",
    "- 두 개의 자연수에 대한 최대공약수를 구하는 대표적인 알고리즘으로는 **유클리드 호제법**이 있음\n",
    "- **유클리드 호제법**:\n",
    "    - 두 자연수 A, B에 대하여 (A > B) A를 B로 나눈 나머지를 R이라고 하자.\n",
    "    - 이때 A와 B의 최대공약수는 B와 R의 최대공약수와 같다.\n",
    "- 유클리드 호제법의 아이디어를 그대로 재귀함수로 작성할 수 있음\n",
    "    - 예시 : GCD(192, 162) --> 결국 192, 162의 최대공약수는 12, 6의 최대공약수와 같고 GCD(192, 162) = 6\n",
    "    |단계|A|B|\n",
    "    |---|---|---|\n",
    "    |1|192|162|\n",
    "    |2|162|30|\n",
    "    |3|30|12|\n",
    "    |4|12|6|\n",
    "\n",
    "- **LCM : Least Common Multiple(최소공배수)**\n",
    "    - LCM(192, 162)\n",
    "    - 최대공약수 6으로 나누면 각각 32, 27이 됨\n",
    "    - 최소공배수는 6 * 32 * 27\n",
    "    - 즉, 192 * (162 / gcd(192, 162))"
   ]
  },
  {
   "cell_type": "code",
   "execution_count": 1,
   "metadata": {},
   "outputs": [
    {
     "name": "stdout",
     "output_type": "stream",
     "text": [
      "6\n"
     ]
    }
   ],
   "source": [
    "# GCD\n",
    "def gcd(a, b):\n",
    "    return b if (a % b) == 0 else gcd(b, (a % b))\n",
    "\n",
    "# def gcd(a, b):\n",
    "#     if a % b == 0:\n",
    "#         return b\n",
    "#     else:\n",
    "#         return gcd(b, a % b)\n",
    "\n",
    "# def gcd(a, b):\n",
    "#     while b > 0:\n",
    "#         temp = b\n",
    "#         b = a % b\n",
    "#         a = temp\n",
    "#     return a\n",
    "\n",
    "print(gcd(192, 162))"
   ]
  },
  {
   "cell_type": "code",
   "execution_count": 2,
   "metadata": {},
   "outputs": [
    {
     "name": "stdout",
     "output_type": "stream",
     "text": [
      "5184.0\n"
     ]
    }
   ],
   "source": [
    "# LCM\n",
    "def lcm(a, b):\n",
    "    return a * (b / gcd(a, b))\n",
    "\n",
    "print(lcm(192, 162))"
   ]
  },
  {
   "cell_type": "code",
   "execution_count": null,
   "metadata": {},
   "outputs": [],
   "source": []
  }
 ],
 "metadata": {
  "kernelspec": {
   "display_name": "Python 3",
   "language": "python",
   "name": "python3"
  },
  "language_info": {
   "codemirror_mode": {
    "name": "ipython",
    "version": 3
   },
   "file_extension": ".py",
   "mimetype": "text/x-python",
   "name": "python",
   "nbconvert_exporter": "python",
   "pygments_lexer": "ipython3",
   "version": "3.8.5"
  }
 },
 "nbformat": 4,
 "nbformat_minor": 4
}
