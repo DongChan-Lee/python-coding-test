{
 "cells": [
  {
   "cell_type": "markdown",
   "metadata": {},
   "source": [
    "2021 Dev-Matching: 웹 백엔드 개발자(상반기) - 로또의 최고 순위와 최저 순위"
   ]
  },
  {
   "cell_type": "code",
   "execution_count": 1,
   "metadata": {},
   "outputs": [],
   "source": [
    "# 내 풀이\n",
    "def solution(lottos, win_nums):\n",
    "\n",
    "    min_cnt = 0\n",
    "    zero_cnt = 0\n",
    "\n",
    "    for i in lottos:\n",
    "        if i == 0:\n",
    "            zero_cnt += 1      # 0 개수\n",
    "        for j in win_nums:\n",
    "            if i == j:\n",
    "                min_cnt += 1   # 일치 개수\n",
    "                continue\n",
    "\n",
    "    maxNum = min_cnt + zero_cnt\n",
    "    minNum = min_cnt\n",
    "    numList = [maxNum, minNum]\n",
    "    answer = []\n",
    "    rank = 0\n",
    "\n",
    "    for i in numList:\n",
    "        if i == 6:\n",
    "            rank = 1\n",
    "        elif i == 5:\n",
    "            rank = 2\n",
    "        elif i == 4:\n",
    "            rank = 3\n",
    "        elif i == 3:\n",
    "            rank = 4\n",
    "        elif i == 2:\n",
    "            rank = 5\n",
    "        else:\n",
    "            rank = 6\n",
    "        answer.append(rank)\n",
    "\n",
    "    return answer"
   ]
  },
  {
   "cell_type": "code",
   "execution_count": 2,
   "metadata": {},
   "outputs": [],
   "source": [
    "# 다른 풀이\n",
    "# count()와 배열 순서를 활용한 ranking\n",
    "def solution_1(lottos, win_nums):\n",
    "\n",
    "    rank = [6, 6, 5, 4, 3, 2, 1]\n",
    "\n",
    "    cnt_0 = lottos.count(0)  # 0 개수\n",
    "    ans = 0\n",
    "    for x in win_nums:\n",
    "        if x in lottos:\n",
    "            ans += 1         # 일치 개수\n",
    "    return rank[cnt_0 + ans], rank[ans]"
   ]
  },
  {
   "cell_type": "code",
   "execution_count": 3,
   "metadata": {},
   "outputs": [],
   "source": [
    "# 다른 풀이 2\n",
    "# 같은 숫자가 2개 이상 담겨있지 않으므로 일치 개수 세는 방법에 set 활용 : len(set(lottos) & set(win_nums))\n",
    "def solution_2(lottos, win_nums):\n",
    "    rank = {\n",
    "        0: 6,\n",
    "        1: 6,\n",
    "        2: 5,\n",
    "        3: 4,\n",
    "        4: 3,\n",
    "        5: 2,\n",
    "        6: 1\n",
    "    }\n",
    "    return [rank[len(set(lottos) & set(win_nums)) + lottos.count(0)], rank[len(set(lottos) & set(win_nums))]]"
   ]
  },
  {
   "cell_type": "code",
   "execution_count": 4,
   "metadata": {},
   "outputs": [],
   "source": [
    "# 다른 풀이 3\n",
    "# Pythonic code using List Comprehension\n",
    "def solution_3(lottos, win_nums):\n",
    "    zero = lottos.count(0)                    # 0 개수\n",
    "    a = [x for x in lottos if x in win_nums]  # 일치 개수\n",
    "    max = zero + len(a)\n",
    "    min = len(a)\n",
    "\n",
    "    max = 7 - max if max >= 1 else 6\n",
    "    min = 7 - min if min >= 1 else 6\n",
    "    return [max, min]"
   ]
  },
  {
   "cell_type": "markdown",
   "metadata": {},
   "source": [
    "Test Case 1.\n",
    "- lottos = [44, 1, 0, 0, 31, 25]\n",
    "- win_nums = [31, 10, 45, 1, 6, 19]\n",
    "- result : [3, 5]\n",
    "\n",
    "Test Case 2.\n",
    "- lottos = [0, 0, 0, 0, 0, 0]\n",
    "- win_nums = [38, 19, 20, 40, 15, 25]\n",
    "- result : [1, 6]\n",
    "\n",
    "Test Case 3.\n",
    "- lottos = [45, 4, 35, 20, 3, 9]\n",
    "- win_nums = [20, 9, 3, 45, 4, 35]\n",
    "- result : [1, 1]"
   ]
  },
  {
   "cell_type": "code",
   "execution_count": null,
   "metadata": {},
   "outputs": [],
   "source": []
  }
 ],
 "metadata": {
  "kernelspec": {
   "display_name": "Python 3",
   "language": "python",
   "name": "python3"
  },
  "language_info": {
   "codemirror_mode": {
    "name": "ipython",
    "version": 3
   },
   "file_extension": ".py",
   "mimetype": "text/x-python",
   "name": "python",
   "nbconvert_exporter": "python",
   "pygments_lexer": "ipython3",
   "version": "3.8.5"
  }
 },
 "nbformat": 4,
 "nbformat_minor": 4
}
