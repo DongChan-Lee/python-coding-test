{
 "cells": [
  {
   "cell_type": "markdown",
   "metadata": {},
   "source": [
    "2021 KAKAO BLIND RECRUITMENT - 신규 아이디 추천"
   ]
  },
  {
   "cell_type": "code",
   "execution_count": 1,
   "metadata": {},
   "outputs": [],
   "source": [
    "# 내 풀이\n",
    "import re\n",
    "\n",
    "def solution(new_id):\n",
    "    new_id = re.sub('[^a-z0-9-_.]', '', new_id.lower())\n",
    "    new_id = re.sub('[.]+', '.', new_id)\n",
    "    new_id = new_id.strip('.')\n",
    "    new_id = 'a' if len(new_id) == 0 else new_id\n",
    "    new_id = new_id[:15].rstrip('.') if len(new_id) >= 16 else new_id\n",
    "    while len(new_id) <= 2: new_id += new_id[-1]\n",
    "    \n",
    "    return new_id"
   ]
  },
  {
   "cell_type": "code",
   "execution_count": 2,
   "metadata": {},
   "outputs": [],
   "source": [
    "# 다른 풀이\n",
    "# 몇 가지 다른 방법의 정규표현식\n",
    "import re\n",
    "\n",
    "def solution(new_id):\n",
    "    st = new_id\n",
    "    st = st.lower()\n",
    "    st = re.sub('[^a-z0-9\\-_.]', '', st)\n",
    "    st = re.sub('\\.+', '.', st)\n",
    "    st = re.sub('^[.]|[.]$', '', st)          # strip('.') 대신 가능\n",
    "    st = 'a' if len(st) == 0 else st[:15]\n",
    "    st = re.sub('^[.]|[.]$', '', st)\n",
    "    st = st if len(st) > 2 else st + \"\".join([st[-1] for i in range(3-len(st))])   # 3 - len(new_id)\n",
    "    return st"
   ]
  },
  {
   "cell_type": "code",
   "execution_count": 3,
   "metadata": {},
   "outputs": [],
   "source": [
    "# 다른 풀이 2\n",
    "# 정규표현식을 사용 못하는 경우\n",
    "def solution(new_id):\n",
    "    answer = ''\n",
    "    # 1\n",
    "    new_id = new_id.lower()\n",
    "    # 2\n",
    "    for c in new_id:\n",
    "        if c.isalpha() or c.isdigit() or c in ['-', '_', '.']:     # isalpha() : 알파벳인지 확인, isdigit() : 숫자인지 확인\n",
    "            answer += c\n",
    "    # 3\n",
    "    while '..' in answer:\n",
    "        answer = answer.replace('..', '.')\n",
    "    # 4\n",
    "    if answer[0] == '.':\n",
    "        answer = answer[1:] if len(answer) > 1 else '.'\n",
    "    if answer[-1] == '.':\n",
    "        answer = answer[:-1]\n",
    "    # 5\n",
    "    if answer == '':\n",
    "        answer = 'a'\n",
    "    # 6\n",
    "    if len(answer) > 15:\n",
    "        answer = answer[:15]\n",
    "        if answer[-1] == '.':\n",
    "            answer = answer[:-1]\n",
    "    # 7\n",
    "    while len(answer) < 3:\n",
    "        answer += answer[-1]\n",
    "    return answer"
   ]
  },
  {
   "cell_type": "markdown",
   "metadata": {},
   "source": [
    "Test Case 1.\n",
    "- new_id = \"...!@BaT#*..y.abcdefghijklm\"\n",
    "- result = \"bat.y.abcdefghi\"\n",
    "\n",
    "Test Case 2.\n",
    "- new_id = \"z-+.^.\"\n",
    "- result = \"z--\"\n",
    "\n",
    "Test Case 3.\n",
    "- new_id = \"123_.def\"\n",
    "- result = \"123_.def\"\n",
    "\n",
    "Test Case 4.\n",
    "- new_id = \"abcdefghijklmn.p\"\n",
    "- result = \"abcdefghijklmn\""
   ]
  },
  {
   "cell_type": "code",
   "execution_count": null,
   "metadata": {},
   "outputs": [],
   "source": []
  }
 ],
 "metadata": {
  "kernelspec": {
   "display_name": "Python 3",
   "language": "python",
   "name": "python3"
  },
  "language_info": {
   "codemirror_mode": {
    "name": "ipython",
    "version": 3
   },
   "file_extension": ".py",
   "mimetype": "text/x-python",
   "name": "python",
   "nbconvert_exporter": "python",
   "pygments_lexer": "ipython3",
   "version": "3.8.5"
  }
 },
 "nbformat": 4,
 "nbformat_minor": 4
}
