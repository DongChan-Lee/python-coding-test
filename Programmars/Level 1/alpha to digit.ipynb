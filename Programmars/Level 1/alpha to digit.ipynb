{
 "cells": [
  {
   "cell_type": "markdown",
   "metadata": {},
   "source": [
    "2021 카카오 채용연계형 인턴십 - 숫자 문자열과 영단어"
   ]
  },
  {
   "cell_type": "code",
   "execution_count": 1,
   "metadata": {},
   "outputs": [],
   "source": [
    "# 내 풀이\n",
    "dic = {\n",
    "    \"zero\" : \"0\",\n",
    "    \"one\" : \"1\",\n",
    "    \"two\" : \"2\",\n",
    "    \"three\" : \"3\",\n",
    "    \"four\" : \"4\",\n",
    "    \"five\" : \"5\",\n",
    "    \"six\" : \"6\",\n",
    "    \"seven\" : \"7\",\n",
    "    \"eight\" : \"8\",\n",
    "    \"nine\" : \"9\"\n",
    "}\n",
    "\n",
    "# 간결하지만 살짝 더 느림\n",
    "def solution(s):\n",
    "    while s.isdigit() is False:\n",
    "        for key in dic.keys():\n",
    "            s = s.replace(key, dic[key])\n",
    "    return int(s)\n",
    "\n",
    "# 코드가 좀 길어지지만 살짝 더 빠름\n",
    "def solution(s):\n",
    "    if s.isdigit():\n",
    "        return int(s)\n",
    "    else:\n",
    "        for key in dic.keys():\n",
    "            s = s.replace(key, dic[key])\n",
    "        return int(s)"
   ]
  },
  {
   "cell_type": "code",
   "execution_count": 2,
   "metadata": {},
   "outputs": [],
   "source": [
    "# 다른 풀이\n",
    "# reduce(function, iterable, initializer = None)를 통한 풀이\n",
    "from functools import reduce\n",
    "digit = {'zero':'0','one':'1','two':'2','three':'3','four':'4','five':'5','six':'6','seven':'7','eight':'8','nine':'9'}\n",
    "\n",
    "def solution(s):\n",
    "    return int(reduce(lambda ans, d : ans.replace(d, digit[d]), digit.keys(), s))"
   ]
  },
  {
   "cell_type": "markdown",
   "metadata": {},
   "source": [
    "Test Case 1.\n",
    "- s = \"one4seveneight\"\n",
    "- result = 1478\n",
    "\n",
    "Test Case 2.\n",
    "- s = \"23four5six7\"\n",
    "- result = 234567\n",
    "\n",
    "Test Case 3.\n",
    "- s = \"2three45sixseven\"\n",
    "- result = 234567\n",
    "\n",
    "Test Case 4.\n",
    "- s = \"123\"\n",
    "- result = 123\n",
    "\n",
    "Test Case 5.\n",
    "- s = \"1zerotwozero3\"\n",
    "- result = 10203"
   ]
  },
  {
   "cell_type": "code",
   "execution_count": 3,
   "metadata": {},
   "outputs": [
    {
     "name": "stdout",
     "output_type": "stream",
     "text": [
      "100\n"
     ]
    }
   ],
   "source": [
    "# functools 모듈의 reduce 함수 사용 예제\n",
    "# reduce를 활용한 최댓값 구하기\n",
    "from functools import reduce\n",
    "\n",
    "func = lambda a, b : a if (a > b) else b\n",
    "result = reduce(func, [1, 100, 2, 55])\n",
    "print(result)"
   ]
  },
  {
   "cell_type": "code",
   "execution_count": null,
   "metadata": {},
   "outputs": [],
   "source": []
  }
 ],
 "metadata": {
  "kernelspec": {
   "display_name": "Python 3",
   "language": "python",
   "name": "python3"
  },
  "language_info": {
   "codemirror_mode": {
    "name": "ipython",
    "version": 3
   },
   "file_extension": ".py",
   "mimetype": "text/x-python",
   "name": "python",
   "nbconvert_exporter": "python",
   "pygments_lexer": "ipython3",
   "version": "3.8.5"
  }
 },
 "nbformat": 4,
 "nbformat_minor": 4
}
