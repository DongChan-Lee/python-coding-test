{
 "cells": [
  {
   "cell_type": "markdown",
   "metadata": {},
   "source": [
    "월간 코드 챌린지 시즌3 - 없는 숫자 더하기"
   ]
  },
  {
   "cell_type": "code",
   "execution_count": 1,
   "metadata": {},
   "outputs": [],
   "source": [
    "# 내 풀이\n",
    "def solution(numbers):\n",
    "    allNum = [i for i in range(10)]\n",
    "    answer = [i for i in allNum if i not in numbers]\n",
    "    return sum(answer)"
   ]
  },
  {
   "cell_type": "code",
   "execution_count": 2,
   "metadata": {},
   "outputs": [],
   "source": [
    "# 다른 풀이\n",
    "def solution(numbers):\n",
    "    return 45 - sum(numbers)"
   ]
  },
  {
   "cell_type": "markdown",
   "metadata": {},
   "source": [
    "Test Case.\n",
    "\n",
    "|numbers|result|\n",
    "|---|---|\n",
    "|[1,2,3,4,6,7,8,0]|14|\n",
    "|[5,8,4,0,6,7,9]|6|"
   ]
  },
  {
   "cell_type": "code",
   "execution_count": null,
   "metadata": {},
   "outputs": [],
   "source": []
  }
 ],
 "metadata": {
  "kernelspec": {
   "display_name": "Python 3",
   "language": "python",
   "name": "python3"
  },
  "language_info": {
   "codemirror_mode": {
    "name": "ipython",
    "version": 3
   },
   "file_extension": ".py",
   "mimetype": "text/x-python",
   "name": "python",
   "nbconvert_exporter": "python",
   "pygments_lexer": "ipython3",
   "version": "3.8.5"
  }
 },
 "nbformat": 4,
 "nbformat_minor": 4
}
