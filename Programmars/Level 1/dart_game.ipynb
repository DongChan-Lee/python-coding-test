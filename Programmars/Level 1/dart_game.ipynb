{
 "cells": [
  {
   "cell_type": "markdown",
   "metadata": {},
   "source": [
    "2018 KAKAO BLIND RECRUITMENT - [1차] 다트 게임"
   ]
  },
  {
   "cell_type": "code",
   "execution_count": 1,
   "metadata": {},
   "outputs": [],
   "source": [
    "# 내 풀이\n",
    "def solution(dartResult):\n",
    "    answer = 0\n",
    "    dart = []\n",
    "    scores = []\n",
    "    cnt = 0\n",
    "    for i in range(len(dartResult)):\n",
    "        if dartResult[i].isalpha():\n",
    "            if dartResult[i-2].isdigit():\n",
    "                dart.append(dartResult[i-2:i+1])\n",
    "            else:\n",
    "                dart.append(dartResult[i-1:i+1])\n",
    "        elif dartResult[i] == '*' or dartResult[i] == '#':\n",
    "            dart.append(dartResult[i])\n",
    "    \n",
    "    for i, d in enumerate(dart):\n",
    "        if d != '*' and d != '#':\n",
    "            if len(d) == 3:\n",
    "                score = [int(d[:2]) ** 1 if d[2] == 'S' else int(d[:2]) ** 2 if d[2] == 'D' else int(d[:2]) ** 3]\n",
    "                scores.append(score[0])\n",
    "            elif len(d) == 2:\n",
    "                score = [int(d[0]) ** 1 if d[1] == 'S' else int(d[0]) ** 2 if d[1] == 'D' else int(d[0]) ** 3]\n",
    "                scores.append(score[0])\n",
    "        elif d == '*':\n",
    "            cnt += 1\n",
    "            if i-cnt-1 < 0:\n",
    "                scores[i-cnt] *= 2\n",
    "            else:\n",
    "                scores[i-cnt-1] *= 2\n",
    "                scores[i-cnt] *= 2\n",
    "        else:\n",
    "            cnt += 1\n",
    "            scores[i-cnt] *= (-1)\n",
    "    \n",
    "    return sum(scores)"
   ]
  },
  {
   "cell_type": "code",
   "execution_count": 2,
   "metadata": {},
   "outputs": [],
   "source": [
    "# 다른 풀이\n",
    "# 반복되는 문자와 value는 dictionary로 만들기\n",
    "# 정규표현식 사용(re.compile, (compile된 객체).findall)\n",
    "# re.compile 시 ()로 grouping 사용\n",
    "# \\d : digit, \\s : whitespace, \\w : word(문자 + 숫자), ? : 0 또는 1\n",
    "import re\n",
    "\n",
    "def solution(dartResult):\n",
    "    bonus = {'S' : 1, 'D' : 2, 'T' : 3}\n",
    "    option = {'' : 1, '*' : 2, '#' : -1}\n",
    "    p = re.compile('(\\d+)([SDT])([*#]?)')\n",
    "    dart = p.findall(dartResult)    # (ex) [('1', 'D', ''), ('2', 'S', '#'), ('10', 'S', '')]\n",
    "    for i in range(len(dart)):\n",
    "        if dart[i][2] == '*' and i > 0:\n",
    "            dart[i-1] *= 2\n",
    "        dart[i] = int(dart[i][0]) ** bonus[dart[i][1]] * option[dart[i][2]]\n",
    "\n",
    "    answer = sum(dart)\n",
    "    return answer"
   ]
  },
  {
   "cell_type": "code",
   "execution_count": 3,
   "metadata": {},
   "outputs": [],
   "source": [
    "# 다른 풀이 2\n",
    "# 유일한 경우인 10을 k로 변환해주고 \"point\"를 만든 것처럼 1글자마다 리스트에 담아주는 것\n",
    "# i를 -1로 초기화하고 1씩 더하면서 숫자인 경우만 1을 더해주고, 그게 answer의 인덱스가 됨\n",
    "# S, D, T가 1, 2, 3제곱인 걸 index에 활용해서 (sdt.index(j)+1) 제곱해줌\n",
    "def solution(dartResult):\n",
    "    point = []\n",
    "    answer = []\n",
    "    dartResult = dartResult.replace('10','k')\n",
    "    point = ['10' if i == 'k' else i for i in dartResult]\n",
    "    print(point)\n",
    "\n",
    "    i = -1\n",
    "    sdt = ['S', 'D', 'T']\n",
    "    for j in point:\n",
    "        if j in sdt :\n",
    "            answer[i] = answer[i] ** (sdt.index(j)+1)\n",
    "        elif j == '*':\n",
    "            answer[i] = answer[i] * 2\n",
    "            if i != 0 :\n",
    "                answer[i - 1] = answer[i - 1] * 2\n",
    "        elif j == '#':\n",
    "            answer[i] = answer[i] * (-1)\n",
    "        else:\n",
    "            answer.append(int(j))\n",
    "            i += 1\n",
    "    return sum(answer)"
   ]
  },
  {
   "cell_type": "markdown",
   "metadata": {},
   "source": [
    "Test Case.\n",
    "\n",
    "|예제|dartResult|answer|설명|\n",
    "|---|---|---|---|\n",
    "|1|1S2D*3T|37|1<sup>1</sup> * 2 + 2<sup>2</sup> * 2 + 3<sup>3</sup>|\n",
    "|2|1D2S#10S|9|1<sup>2</sup> + 2<sup>1</sup> * (-1) + 10<sup>1</sup>|\n",
    "|3|1D2S0T|3|1<sup>2</sup> + 2<sup>1</sup> + 0<sup>3</sup>|\n",
    "|4|1S*2T*3S|23|1<sup>1</sup> * 2 * 2 + 2<sup>3</sup> * 2 + 3<sup>1</sup>|\n",
    "|5|1D#2S*3S|5|1<sup>2</sup> * (-1) * 2 + 2<sup>1</sup> * 2 + 3<sup>1</sup>|\n",
    "|6|1T2D3D#|-4|1<sup>3</sup> + 2<sup>2</sup> + 3<sup>2</sup> * (-1)|\n",
    "|7|1D2S3T*|59|1<sup>2</sup> + 2<sup>1</sup> * 2 + 3<sup>3</sup> * 2|"
   ]
  },
  {
   "cell_type": "code",
   "execution_count": null,
   "metadata": {},
   "outputs": [],
   "source": []
  }
 ],
 "metadata": {
  "kernelspec": {
   "display_name": "Python 3",
   "language": "python",
   "name": "python3"
  },
  "language_info": {
   "codemirror_mode": {
    "name": "ipython",
    "version": 3
   },
   "file_extension": ".py",
   "mimetype": "text/x-python",
   "name": "python",
   "nbconvert_exporter": "python",
   "pygments_lexer": "ipython3",
   "version": "3.8.5"
  }
 },
 "nbformat": 4,
 "nbformat_minor": 4
}
