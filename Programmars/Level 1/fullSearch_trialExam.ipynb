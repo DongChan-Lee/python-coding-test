{
 "cells": [
  {
   "cell_type": "markdown",
   "metadata": {},
   "source": [
    "완전탐색 - 모의고사"
   ]
  },
  {
   "cell_type": "code",
   "execution_count": 1,
   "metadata": {},
   "outputs": [],
   "source": [
    "# 내 풀이\n",
    "def solution(answers):\n",
    "    \n",
    "    answer = []\n",
    "    score = [0, 0, 0]\n",
    "    a = [1, 2, 3, 4, 5]\n",
    "    b = [2, 1, 2, 3, 2, 4, 2, 5]\n",
    "    c = [3, 3, 1, 1, 2, 2, 4, 4, 5, 5]\n",
    "    \n",
    "    for i in range(len(answers)):\n",
    "        if a[i%5] == answers[i]:\n",
    "            score[0] += 1\n",
    "        if b[i%8] == answers[i]:\n",
    "            score[1] += 1\n",
    "        if c[i%10] == answers[i]:\n",
    "            score[2] += 1\n",
    "    \n",
    "    max_score = max(score)\n",
    "    for i in range(len(score)):\n",
    "        if score[i] == max_score:\n",
    "            answer.append(i+1)\n",
    "    \n",
    "    return answer"
   ]
  },
  {
   "cell_type": "code",
   "execution_count": 2,
   "metadata": {},
   "outputs": [],
   "source": [
    "# 1. 런타임 에러\n",
    "from itertools import chain, repeat\n",
    "\n",
    "def solution(answers):\n",
    "    \n",
    "    length = len(answers)\n",
    "    a = 1 if length < 5 else length // 5\n",
    "    b = 1 if length < 8 else length // 8\n",
    "    c = 1 if length < 10 else length // 10\n",
    "    \n",
    "    a_ = list(chain.from_iterable(repeat([1, 2, 3, 4, 5], a)))[:length]\n",
    "    b_ = list(chain.from_iterable(repeat([2, 1, 2, 3, 2, 4, 2, 5], b)))[:length]\n",
    "    c_ = list(chain.from_iterable(repeat(i, 2) for i in list(chain.from_iterable(repeat([3, 1, 2, 4, 5], c)))))[:length]\n",
    "    \n",
    "    cnt_a, cnt_b, cnt_c = 0, 0, 0\n",
    "\n",
    "    for i, ans in enumerate(answers):\n",
    "        if a_[i] == ans:\n",
    "            cnt_a += 1\n",
    "        if b_[i] == ans:\n",
    "            cnt_b += 1\n",
    "        if c_[i] == ans:\n",
    "            cnt_c += 1\n",
    "    \n",
    "    total = [cnt_a, cnt_b, cnt_c]\n",
    "    max_num = max(total)\n",
    "    answer = [i+1 for i in range(len(total)) if total[i] == max_num]\n",
    "    \n",
    "    return sorted(answer)\n",
    "\n",
    "# 2. 런타임 에러\n",
    "def solution(answers):\n",
    "    \n",
    "    length = len(answers)\n",
    "    a = 1 if length < 5 else length // 5\n",
    "    b = 1 if length < 8 else length // 8\n",
    "    c = 1 if length < 10 else length // 10\n",
    "    \n",
    "    a_ = ([1, 2, 3, 4, 5] * a)[:length]\n",
    "    b_ = ([2, 1, 2, 3, 2, 4, 2, 5] * b)[:length]\n",
    "    c_ = ([3, 3, 1, 1, 2, 2, 4, 4, 5, 5] * c)[:length]\n",
    "    \n",
    "    cnt_a, cnt_b, cnt_c = 0, 0, 0\n",
    "\n",
    "    for i, ans in enumerate(answers):\n",
    "        if a_[i] == ans:\n",
    "            cnt_a += 1\n",
    "        if b_[i] == ans:\n",
    "            cnt_b += 1\n",
    "        if c_[i] == ans:\n",
    "            cnt_c += 1\n",
    "    \n",
    "    total = [cnt_a, cnt_b, cnt_c]\n",
    "    max_num = max(total)\n",
    "    answer = [i+1 for i in range(len(total)) if total[i] == max_num]\n",
    "    \n",
    "    return sorted(answer)"
   ]
  },
  {
   "cell_type": "code",
   "execution_count": 3,
   "metadata": {},
   "outputs": [],
   "source": [
    "# 다른 풀이\n",
    "# enumerate, 반복문 2번 사용으로 끝냄\n",
    "def solution(answers):\n",
    "    p = [[1, 2, 3, 4, 5],\n",
    "         [2, 1, 2, 3, 2, 4, 2, 5],\n",
    "         [3, 3, 1, 1, 2, 2, 4, 4, 5, 5]]\n",
    "    s = [0] * len(p)\n",
    "\n",
    "    for q, a in enumerate(answers):\n",
    "        for i, v in enumerate(p):\n",
    "            if a == v[q % len(v)]:\n",
    "                s[i] += 1\n",
    "    return [i + 1 for i, v in enumerate(s) if v == max(s)]"
   ]
  },
  {
   "cell_type": "markdown",
   "metadata": {},
   "source": [
    "#### itertools와 numpy를 이용한 repeat 예시"
   ]
  },
  {
   "cell_type": "code",
   "execution_count": 4,
   "metadata": {},
   "outputs": [
    {
     "name": "stdout",
     "output_type": "stream",
     "text": [
      "[1, 2, 1, 2, 1, 2]\n",
      "[3, 3, 1, 1, 2, 2, 4, 4, 5, 5]\n"
     ]
    }
   ],
   "source": [
    "from itertools import chain, repeat, cycle\n",
    "\n",
    "print(list(chain.from_iterable(repeat([1, 2], 3))))\n",
    "print(list(chain.from_iterable(repeat(i, 2) for i in [3, 1, 2, 4, 5])))\n",
    "giveups = cycle([1, 2, 3, 4, 5])  # itertools.cylce()를 이용하면 무한 반복한 iterator 생성 가능"
   ]
  },
  {
   "cell_type": "code",
   "execution_count": 5,
   "metadata": {},
   "outputs": [
    {
     "data": {
      "text/plain": [
       "array([1, 1, 1, 2, 2, 2, 3, 3, 3])"
      ]
     },
     "execution_count": 5,
     "metadata": {},
     "output_type": "execute_result"
    }
   ],
   "source": [
    "import numpy as np\n",
    "\n",
    "np.repeat([1, 2, 3], 3)"
   ]
  },
  {
   "cell_type": "code",
   "execution_count": 6,
   "metadata": {},
   "outputs": [
    {
     "data": {
      "text/plain": [
       "[1, 2, 3, 1, 2, 3]"
      ]
     },
     "execution_count": 6,
     "metadata": {},
     "output_type": "execute_result"
    }
   ],
   "source": [
    "[1,2,3] * 2"
   ]
  },
  {
   "cell_type": "markdown",
   "metadata": {},
   "source": [
    "Test case.\n",
    "\n",
    "|answers|return|\n",
    "|---|---|\n",
    "|[1, 2, 3, 4, 5]|[1]|\n",
    "|[1, 3, 2, 4, 2]|[1, 2, 3]|"
   ]
  },
  {
   "cell_type": "code",
   "execution_count": null,
   "metadata": {},
   "outputs": [],
   "source": []
  }
 ],
 "metadata": {
  "kernelspec": {
   "display_name": "Python 3",
   "language": "python",
   "name": "python3"
  },
  "language_info": {
   "codemirror_mode": {
    "name": "ipython",
    "version": 3
   },
   "file_extension": ".py",
   "mimetype": "text/x-python",
   "name": "python",
   "nbconvert_exporter": "python",
   "pygments_lexer": "ipython3",
   "version": "3.8.5"
  }
 },
 "nbformat": 4,
 "nbformat_minor": 4
}
