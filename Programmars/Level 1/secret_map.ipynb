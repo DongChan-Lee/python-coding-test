{
 "cells": [
  {
   "cell_type": "markdown",
   "metadata": {},
   "source": [
    "2018 KAKAO BLIND RECRUITMENT - [1차] 비밀지도"
   ]
  },
  {
   "cell_type": "code",
   "execution_count": 1,
   "metadata": {},
   "outputs": [],
   "source": [
    "# 내 풀이\n",
    "# 이진법 구현\n",
    "def solution(n, arr1, arr2):\n",
    "    answer_1 = []\n",
    "    answer_2 = []\n",
    "    final = []\n",
    "    rules = [2 ** i for i in range(n-1, -1, -1)]\n",
    "    ret = ''\n",
    "    for ans_1 in arr1:\n",
    "        for i in rules:\n",
    "            if ans_1 >= i:\n",
    "                ret += '#'\n",
    "                ans_1 -= i\n",
    "            else:\n",
    "                ret += ' '\n",
    "        answer_1.append(ret)\n",
    "        ret = ''\n",
    "    for ans_2 in arr2:\n",
    "        for i in rules:\n",
    "            if ans_2 >= i:\n",
    "                ret += '#'\n",
    "                ans_2 -= i\n",
    "            else:\n",
    "                ret += ' '\n",
    "        answer_2.append(ret)\n",
    "        ret = ''\n",
    "    for i in range(n):\n",
    "        for j in range(n):\n",
    "            if answer_1[i][j] == ' ' and answer_2[i][j] == ' ':\n",
    "                ret += ' '\n",
    "            else:\n",
    "                ret += '#'\n",
    "        final.append(ret)\n",
    "        ret = ''\n",
    "    return final"
   ]
  },
  {
   "cell_type": "code",
   "execution_count": 2,
   "metadata": {},
   "outputs": [],
   "source": [
    "# 다른 풀이\n",
    "# zip() 사용\n",
    "# bin() 사용, or 연산자 사용해서 하나라도 1일 때 1을 넣고 둘 다 0일 때 0으로 채워주는 신박한 방법\n",
    "# rjust(), zfill()로 왼쪽에서부터 0을 채워줌\n",
    "def solution(n, arr1, arr2):\n",
    "    answer = []\n",
    "    for i, j in zip(arr1, arr2):\n",
    "        a12 = str(bin(i|j)[2:])   # bin() : 이진수로 바꾸는 함수 (ex. bin(5) = '0b101')\n",
    "        a12 = a12.rjust(n, '0')   # rjust(n, 'a') : n자리수로 바꾸고 오른쪽으로 몰아넣고 왼쪽에 'a'를 채워줌\n",
    "                                  # ljust(n, 'a') : n자리수로 바꾸고 왼쪽으로 몰아넣고 오른쪽에 'a'를 채워줌\n",
    "                                  # zfill() : 0을 왼쪽에 채워줌\n",
    "        a12 = a12.replace('1', '#')\n",
    "        a12 = a12.replace('0', ' ')\n",
    "        answer.append(a12)\n",
    "    return answer"
   ]
  },
  {
   "cell_type": "code",
   "execution_count": 3,
   "metadata": {},
   "outputs": [],
   "source": [
    "# 다른 풀이 2\n",
    "# 정규표현식을 사용해서 0을 채워줌\n",
    "import re\n",
    "\n",
    "def solution(n, arr1, arr2):\n",
    "    answer = [\"#\"] * n\n",
    "    for i in range(0, n):\n",
    "        answer[i] = str(bin(arr1[i]|arr2[i]))[2:]\n",
    "        answer[i] = re.sub('1', '#', '0' * (n - len(answer[i])) + answer[i])\n",
    "        answer[i] = re.sub('0', ' ', answer[i])\n",
    "    return answer"
   ]
  },
  {
   "cell_type": "markdown",
   "metadata": {},
   "source": [
    "Test Case.\n",
    "\n",
    "- n : 5\n",
    "- arr1 : [9, 20, 28, 18, 11]\n",
    "- arr2 : [30, 1, 21, 17, 28]\n",
    "- 출력 : [\"#####\",\"# # #\", \"### #\", \"# ##\", \"#####\"]\n",
    "\n",
    "\n",
    "- n : 6\n",
    "- arr1 : [46, 33, 33 ,22, 31, 50]\n",
    "- arr2 : [27 ,56, 19, 14, 14, 10]\n",
    "- 출력 : [\"######\", \"### #\", \"## ##\", \" #### \", \" #####\", \"### # \"]"
   ]
  },
  {
   "cell_type": "code",
   "execution_count": null,
   "metadata": {},
   "outputs": [],
   "source": []
  }
 ],
 "metadata": {
  "kernelspec": {
   "display_name": "Python 3",
   "language": "python",
   "name": "python3"
  },
  "language_info": {
   "codemirror_mode": {
    "name": "ipython",
    "version": 3
   },
   "file_extension": ".py",
   "mimetype": "text/x-python",
   "name": "python",
   "nbconvert_exporter": "python",
   "pygments_lexer": "ipython3",
   "version": "3.8.5"
  }
 },
 "nbformat": 4,
 "nbformat_minor": 4
}
