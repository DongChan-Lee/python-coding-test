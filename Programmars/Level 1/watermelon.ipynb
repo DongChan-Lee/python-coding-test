{
 "cells": [
  {
   "cell_type": "markdown",
   "metadata": {},
   "source": [
    "연습문제 - 수박수박수박수박수박수?"
   ]
  },
  {
   "cell_type": "code",
   "execution_count": 1,
   "metadata": {},
   "outputs": [],
   "source": [
    "# 내 풀이\n",
    "def solution(n):\n",
    "    string = \"수박\"\n",
    "    if (n % 2) == 1:\n",
    "        return string * (n // 2) + string[0]\n",
    "    else:\n",
    "        return string * (n // 2)"
   ]
  },
  {
   "cell_type": "code",
   "execution_count": 2,
   "metadata": {},
   "outputs": [],
   "source": [
    "# 다른 풀이 1\n",
    "def water_melon(n):\n",
    "    return (\"수박\" * n)[:n]"
   ]
  },
  {
   "cell_type": "code",
   "execution_count": 3,
   "metadata": {},
   "outputs": [],
   "source": [
    "# 다른 풀이 2\n",
    "def water_melon(n):\n",
    "    return \"수박\" * (n // 2) + \"수\" * (n % 2)"
   ]
  },
  {
   "cell_type": "code",
   "execution_count": 4,
   "metadata": {},
   "outputs": [],
   "source": [
    "# 다른 풀이 3\n",
    "def solution(n):\n",
    "    return \"\".join([\"수박\"[i % 2] for i in range(n)])"
   ]
  },
  {
   "cell_type": "markdown",
   "metadata": {},
   "source": [
    "Test Case 1.\n",
    "- n : 3\n",
    "- return : \"수박수\"\n",
    "\n",
    "Test Case 2.\n",
    "- n : 4\n",
    "- return : \"수박수박\""
   ]
  },
  {
   "cell_type": "code",
   "execution_count": null,
   "metadata": {},
   "outputs": [],
   "source": []
  }
 ],
 "metadata": {
  "kernelspec": {
   "display_name": "Python 3",
   "language": "python",
   "name": "python3"
  },
  "language_info": {
   "codemirror_mode": {
    "name": "ipython",
    "version": 3
   },
   "file_extension": ".py",
   "mimetype": "text/x-python",
   "name": "python",
   "nbconvert_exporter": "python",
   "pygments_lexer": "ipython3",
   "version": "3.8.5"
  }
 },
 "nbformat": 4,
 "nbformat_minor": 4
}
