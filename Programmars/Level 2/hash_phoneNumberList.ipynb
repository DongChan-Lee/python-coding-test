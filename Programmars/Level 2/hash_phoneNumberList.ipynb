{
 "cells": [
  {
   "cell_type": "markdown",
   "metadata": {},
   "source": [
    "해시 - 전화번호 목록"
   ]
  },
  {
   "cell_type": "code",
   "execution_count": 1,
   "metadata": {},
   "outputs": [],
   "source": [
    "# 내 풀이\n",
    "# phone_book을 정렬하는 게 핵심!\n",
    "# 정렬하면 바로 오른쪽 문자열이랑만 비교하면 됨. 접두어이면 False로 바로 반환될테고, 아니면 건너 뛴 다음 것도 접두어가 아닐 것이므로\n",
    "# 즉, 하나의 문자열이 나머지 문자열 \"모두\"와 비교해서 접두어인지 확인할 필요 X\n",
    "def solution(phone_book):\n",
    "    phone_book.sort()\n",
    "    for i in range(len(phone_book) - 1):\n",
    "        if phone_book[i] == phone_book[i + 1][:len(phone_book[i])]:\n",
    "            return False\n",
    "    return True"
   ]
  },
  {
   "cell_type": "code",
   "execution_count": 2,
   "metadata": {},
   "outputs": [],
   "source": [
    "# 다른 풀이 1\n",
    "# heap을 이용한 풀이(시간복잡도 NlogN) : sort()를 이용한 정렬과 heapify를 이용한 오름차순 정렬이 동일함(문자열이든 숫자든)\n",
    "# sort()(시간복잡도 NlogN)로 푼 내 풀이보다 효율성과 속도가 훨씬 빠름..!!\n",
    "import heapq\n",
    "\n",
    "def solution(phone_book):\n",
    "    heapq.heapify(phone_book)\n",
    "    p = heapq.heappop(phone_book)\n",
    "    while phone_book:\n",
    "        if p == phone_book[0][:len(p)]:\n",
    "            return False\n",
    "        p = heapq.heappop(phone_book)\n",
    "    return True"
   ]
  },
  {
   "cell_type": "code",
   "execution_count": 3,
   "metadata": {},
   "outputs": [],
   "source": [
    "# 다른 풀이 2\n",
    "# 정렬과 startswith를 이용한 풀이\n",
    "# zip(phoneBook, phoneBook[1:])하면 하나씩 밀려서 1:1로 매칭됨!\n",
    "def solution(phoneBook):\n",
    "    phoneBook = sorted(phoneBook)\n",
    "\n",
    "    for p1, p2 in zip(phoneBook, phoneBook[1:]):\n",
    "        if p2.startswith(p1):\n",
    "            return False\n",
    "    return True"
   ]
  },
  {
   "cell_type": "markdown",
   "metadata": {},
   "source": [
    "Test Case.\n",
    "\n",
    "|phone_book|return|\n",
    "|---|---|\n",
    "|[\"119\", \"97674223\", \"1195524421\"]|false|\n",
    "|[\"123\",\"456\",\"789\"]|true|\n",
    "|[\"12\",\"123\",\"1235\",\"567\",\"88\"]|false|"
   ]
  },
  {
   "cell_type": "code",
   "execution_count": null,
   "metadata": {},
   "outputs": [],
   "source": []
  }
 ],
 "metadata": {
  "kernelspec": {
   "display_name": "Python 3",
   "language": "python",
   "name": "python3"
  },
  "language_info": {
   "codemirror_mode": {
    "name": "ipython",
    "version": 3
   },
   "file_extension": ".py",
   "mimetype": "text/x-python",
   "name": "python",
   "nbconvert_exporter": "python",
   "pygments_lexer": "ipython3",
   "version": "3.8.5"
  }
 },
 "nbformat": 4,
 "nbformat_minor": 4
}
