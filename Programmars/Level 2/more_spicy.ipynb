{
 "cells": [
  {
   "cell_type": "markdown",
   "metadata": {},
   "source": [
    "힙(Heap) - 더 맵게"
   ]
  },
  {
   "cell_type": "code",
   "execution_count": 1,
   "metadata": {},
   "outputs": [],
   "source": [
    "# 내 풀이\n",
    "# 정확성 100%, 효율성 0% -> min(scoville)을 scoville[0]로만 바꿔줬더니 정확성 100%, 효율성 100%\n",
    "# min(), max()는 전체 데이터를 확인해야 해서 시간복잡도 O(N)\n",
    "# heapq를 사용하니까 heap[0]를 보면 제일 작은 값임!\n",
    "import heapq\n",
    "\n",
    "def solution(scoville, K):\n",
    "    answer = 0\n",
    "    heapq.heapify(scoville)  # 또는 scoville.sort()\n",
    "    \n",
    "    while len(scoville) > 0:\n",
    "        if scoville[0] == 0 and scoville[1] == 0:\n",
    "            return -1\n",
    "        elif (len(scoville) == 2) and (scoville[0] + (scoville[1] * 2) < K): ### 조건 추가\n",
    "            return -1\n",
    "        else:\n",
    "            if scoville[0] >= K:\n",
    "                break\n",
    "            else:\n",
    "                minimum = heapq.heappop(scoville)\n",
    "                sec_minimum = heapq.heappop(scoville)\n",
    "                heapq.heappush(scoville, minimum + (sec_minimum * 2))\n",
    "                answer += 1\n",
    "        \n",
    "    return answer"
   ]
  },
  {
   "cell_type": "code",
   "execution_count": 2,
   "metadata": {},
   "outputs": [],
   "source": [
    "# 다른 풀이\n",
    "# while문에 핵심적인 scoville[0] < K 조건을 넣고,\n",
    "# scoville[0] == 0 and scoville[1] == 0과 (len(scoville) == 2) and (scoville[0] + (scoville[1] * 2) < K)을 동시에 충족하는\n",
    "# 조건이 len(scoville) <= 1임\n",
    "import heapq\n",
    "\n",
    "def solution(scoville, K):\n",
    "    answer = 0\n",
    "    scoville.sort()\n",
    "    \n",
    "    while scoville[0] < K:\n",
    "        if len(scoville) <= 1:\n",
    "            return -1\n",
    "        else:\n",
    "            small = heapq.heappop(scoville)\n",
    "            small2 = heapq.heappop(scoville)\n",
    "            heapq.heappush(scoville, (small + (small2 * 2)))\n",
    "            answer += 1\n",
    "    return answer"
   ]
  },
  {
   "cell_type": "markdown",
   "metadata": {},
   "source": [
    "Test Case.\n",
    "- scoville : [1, 2, 3, 9, 10, 12]\n",
    "- K : 7\n",
    "- return : 2"
   ]
  },
  {
   "cell_type": "code",
   "execution_count": null,
   "metadata": {},
   "outputs": [],
   "source": []
  }
 ],
 "metadata": {
  "kernelspec": {
   "display_name": "Python 3",
   "language": "python",
   "name": "python3"
  },
  "language_info": {
   "codemirror_mode": {
    "name": "ipython",
    "version": 3
   },
   "file_extension": ".py",
   "mimetype": "text/x-python",
   "name": "python",
   "nbconvert_exporter": "python",
   "pygments_lexer": "ipython3",
   "version": "3.8.5"
  }
 },
 "nbformat": 4,
 "nbformat_minor": 4
}
